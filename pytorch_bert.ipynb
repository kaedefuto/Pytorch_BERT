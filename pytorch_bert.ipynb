{
 "cells": [
  {
   "cell_type": "markdown",
   "metadata": {},
   "source": [
    "# ＊PYTORCHによるBERTの実装\n"
   ]
  },
  {
   "cell_type": "markdown",
   "metadata": {},
   "source": [
    "- 環境:Ubuntu18.04\n",
    "- GPU:Quadro RTX 8000\n",
    "- ドライバー:NVIDIA-SMI 460.32.03, Driver Version: 460.32.03, CUDA Version: 11.2\n",
    "- 事前学習済みモデル:https://nlp.ist.i.kyoto-u.ac.jp/?ku_bert_japanese\n",
    "    - ./weights:pytorch_model.bin, config.json\n",
    "    - ./vocab:vocab.txt\n",
    "    - ./data:train.tsv, test.tsv, train_dumy.tsv, test_dumy.tsv(ダミーデータが必要)\n",
    "    - ./:test.csv\n",
    "- 形態素解析時にストップワードを利用する場合はbert.pyの25行目と731行目のコメントアウトを外すこと\n",
    "- EarlyStoppingを利用する場合はhttps://github.com/Bjarten/early-stopping-pytorch からpytorchtools.pyをutilsにインストールし学習・検証のコメントアウトを外すこと\n",
    "    "
   ]
  },
  {
   "cell_type": "markdown",
   "metadata": {},
   "source": [
    "# ＊事前準備\n"
   ]
  },
  {
   "cell_type": "code",
   "execution_count": null,
   "metadata": {},
   "outputs": [],
   "source": [
    "!conda create -n pytorch_bert python=3.7\n",
    "!conda activate pytorch_bert\n",
    "!conda install pytorch==1.8.0 torchvision==0.9.0 torchaudio==0.8.0 cudatoolkit=11.1 -c pytorch -c conda-forge\n",
    "!conda install jupyter\n",
    "!pip install transformers==2.9.0\n",
    "!pip install torchtext\n",
    "!pip install tqdm\n",
    "!pip install pyknp\n",
    "!pip install attrdict\n",
    "!pip install spacy\n",
    "!pip install mojimoji"
   ]
  },
  {
   "cell_type": "markdown",
   "metadata": {},
   "source": [
    "# ＊Juman前処理"
   ]
  },
  {
   "cell_type": "code",
   "execution_count": 1,
   "metadata": {},
   "outputs": [],
   "source": [
    "import random\n",
    "import time\n",
    "import numpy as np\n",
    "from tqdm import tqdm\n",
    "import torch \n",
    "from torch import nn\n",
    "import torch.optim as optim\n",
    "import torchtext"
   ]
  },
  {
   "cell_type": "code",
   "execution_count": 2,
   "metadata": {},
   "outputs": [],
   "source": [
    "from utils.dataloader import DataLoaders_and_TEXT_train_val, DataLoaders_and_TEXT_batch_train_val\n",
    "from utils.bert import BertTokenizer\n",
    "\n",
    "max_length=128\n",
    "path_result=\"./result/心配/5/\"\n",
    "path_weights=\"./weights/心配/5/\""
   ]
  },
  {
   "cell_type": "code",
   "execution_count": 3,
   "metadata": {
    "scrolled": true
   },
   "outputs": [],
   "source": [
    "#形態素解析\n",
    "train_val_ds, test_ds, TEXT= DataLoaders_and_TEXT_train_val(max_length)"
   ]
  },
  {
   "cell_type": "code",
   "execution_count": 4,
   "metadata": {},
   "outputs": [],
   "source": [
    "batch_size=32\n",
    "test_dl, TEXT, dataloaders_dict, dataloaders_dict_val, test_ds= DataLoaders_and_TEXT_batch_train_val(train_val_ds, test_ds, TEXT, batch_size)"
   ]
  },
  {
   "cell_type": "code",
   "execution_count": 5,
   "metadata": {},
   "outputs": [
    {
     "name": "stdout",
     "output_type": "stream",
     "text": [
      "\n",
      "[torchtext.legacy.data.batch.Batch of size 32]\n",
      "\t[.Text]:('[torch.LongTensor of size 32x128]', '[torch.LongTensor of size 32]')\n",
      "\t[.Label]:[torch.LongTensor of size 32]\n",
      "(tensor([[    2,  1338, 18400,  ...,     0,     0,     0],\n",
      "        [    2,  8428,  2665,  ...,     0,     0,     0],\n",
      "        [    2,     1,    13,  ...,     0,     0,     0],\n",
      "        ...,\n",
      "        [    2,  6309,  1412,  ...,     0,     0,     0],\n",
      "        [    2,  6309,     6,  ...,     0,     0,     0],\n",
      "        [    2,  2926,  6309,  ...,     0,     0,     0]]), tensor([ 75,  71,  75,  59,  66,  57,  76, 107,  68,  77,  75, 102,  64,  73,\n",
      "         85,  52,  50,  40,  70,  36,  75,  65,  73,  65,  32, 103,  41,  61,\n",
      "         64,  88,  69,  60]))\n",
      "tensor([1, 1, 1, 1, 1, 1, 1, 1, 1, 1, 1, 1, 1, 1, 1, 1, 1, 1, 1, 1, 1, 1, 1, 1,\n",
      "        1, 1, 1, 1, 1, 1, 1, 1])\n"
     ]
    }
   ],
   "source": [
    "# 動作確認 テストデータのデータセットで確認\n",
    "batch = next(iter(test_dl))\n",
    "print(batch)\n",
    "print(batch.Text)\n",
    "print(batch.Label)"
   ]
  },
  {
   "cell_type": "code",
   "execution_count": 6,
   "metadata": {},
   "outputs": [
    {
     "name": "stdout",
     "output_type": "stream",
     "text": [
      "['[CLS]', '【', '注意', '喚起', '】', '停電', '発生', '時', 'は', '[UNK]', '再開', '後', '、', '火災', 'が', '発生', 'する', '危険', '性', 'が', '高まり', 'ます', '●', '停電', '中', 'の', '自宅', 'を', '離れる', '時', 'は', '[UNK]', 'を', '落とし', '、', '●', '[UNK]', '再開', '後', 'は', '機器', '等', 'の', '損傷', 'が', 'ない', 'か', '・', '燃え', 'やすい', 'もの', 'が', '近く', 'に', '[UNK]', '等', 'を', '確認', 'して', 'から', '[UNK]', 'を', '戻して', 'ください', '＃', '台風', '第', '[UNK]', '号', '…', '[SEP]', '[PAD]', '[PAD]', '[PAD]', '[PAD]', '[PAD]', '[PAD]', '[PAD]', '[PAD]', '[PAD]', '[PAD]', '[PAD]', '[PAD]', '[PAD]', '[PAD]', '[PAD]', '[PAD]', '[PAD]', '[PAD]', '[PAD]', '[PAD]', '[PAD]', '[PAD]', '[PAD]', '[PAD]', '[PAD]', '[PAD]', '[PAD]', '[PAD]', '[PAD]', '[PAD]', '[PAD]', '[PAD]', '[PAD]', '[PAD]', '[PAD]', '[PAD]', '[PAD]', '[PAD]', '[PAD]', '[PAD]', '[PAD]', '[PAD]', '[PAD]', '[PAD]', '[PAD]', '[PAD]', '[PAD]', '[PAD]', '[PAD]', '[PAD]', '[PAD]', '[PAD]', '[PAD]', '[PAD]', '[PAD]', '[PAD]', '[PAD]']\n"
     ]
    }
   ],
   "source": [
    "from utils.bert import BertTokenizer\n",
    "from utils.config import PKL_FILE, VOCAB_FILE, DATA_PATH\n",
    "tokenizer_bert = BertTokenizer(vocab_file=VOCAB_FILE, do_lower_case=False)\n",
    "\n",
    "# ミニバッチの1文目を確認してみる\n",
    "text_minibatch_1 = (batch.Text[0][1]).numpy()\n",
    "\n",
    "# IDを単語に戻す\n",
    "text = tokenizer_bert.convert_ids_to_tokens(text_minibatch_1)\n",
    "\n",
    "print(text)"
   ]
  },
  {
   "cell_type": "markdown",
   "metadata": {},
   "source": [
    "# ＊BERTモデルを構築"
   ]
  },
  {
   "cell_type": "code",
   "execution_count": 6,
   "metadata": {},
   "outputs": [
    {
     "name": "stdout",
     "output_type": "stream",
     "text": [
      "bert.embeddings.word_embeddings.weight→embeddings.word_embeddings.weight\n",
      "bert.embeddings.position_embeddings.weight→embeddings.position_embeddings.weight\n",
      "bert.embeddings.token_type_embeddings.weight→embeddings.token_type_embeddings.weight\n",
      "bert.embeddings.LayerNorm.weight→embeddings.LayerNorm.gamma\n",
      "bert.embeddings.LayerNorm.bias→embeddings.LayerNorm.beta\n",
      "bert.encoder.layer.0.attention.self.query.weight→encoder.layer.0.attention.selfattn.query.weight\n",
      "bert.encoder.layer.0.attention.self.query.bias→encoder.layer.0.attention.selfattn.query.bias\n",
      "bert.encoder.layer.0.attention.self.key.weight→encoder.layer.0.attention.selfattn.key.weight\n",
      "bert.encoder.layer.0.attention.self.key.bias→encoder.layer.0.attention.selfattn.key.bias\n",
      "bert.encoder.layer.0.attention.self.value.weight→encoder.layer.0.attention.selfattn.value.weight\n",
      "bert.encoder.layer.0.attention.self.value.bias→encoder.layer.0.attention.selfattn.value.bias\n",
      "bert.encoder.layer.0.attention.output.dense.weight→encoder.layer.0.attention.output.dense.weight\n",
      "bert.encoder.layer.0.attention.output.dense.bias→encoder.layer.0.attention.output.dense.bias\n",
      "bert.encoder.layer.0.attention.output.LayerNorm.weight→encoder.layer.0.attention.output.LayerNorm.gamma\n",
      "bert.encoder.layer.0.attention.output.LayerNorm.bias→encoder.layer.0.attention.output.LayerNorm.beta\n",
      "bert.encoder.layer.0.intermediate.dense.weight→encoder.layer.0.intermediate.dense.weight\n",
      "bert.encoder.layer.0.intermediate.dense.bias→encoder.layer.0.intermediate.dense.bias\n",
      "bert.encoder.layer.0.output.dense.weight→encoder.layer.0.output.dense.weight\n",
      "bert.encoder.layer.0.output.dense.bias→encoder.layer.0.output.dense.bias\n",
      "bert.encoder.layer.0.output.LayerNorm.weight→encoder.layer.0.output.LayerNorm.gamma\n",
      "bert.encoder.layer.0.output.LayerNorm.bias→encoder.layer.0.output.LayerNorm.beta\n",
      "bert.encoder.layer.1.attention.self.query.weight→encoder.layer.1.attention.selfattn.query.weight\n",
      "bert.encoder.layer.1.attention.self.query.bias→encoder.layer.1.attention.selfattn.query.bias\n",
      "bert.encoder.layer.1.attention.self.key.weight→encoder.layer.1.attention.selfattn.key.weight\n",
      "bert.encoder.layer.1.attention.self.key.bias→encoder.layer.1.attention.selfattn.key.bias\n",
      "bert.encoder.layer.1.attention.self.value.weight→encoder.layer.1.attention.selfattn.value.weight\n",
      "bert.encoder.layer.1.attention.self.value.bias→encoder.layer.1.attention.selfattn.value.bias\n",
      "bert.encoder.layer.1.attention.output.dense.weight→encoder.layer.1.attention.output.dense.weight\n",
      "bert.encoder.layer.1.attention.output.dense.bias→encoder.layer.1.attention.output.dense.bias\n",
      "bert.encoder.layer.1.attention.output.LayerNorm.weight→encoder.layer.1.attention.output.LayerNorm.gamma\n",
      "bert.encoder.layer.1.attention.output.LayerNorm.bias→encoder.layer.1.attention.output.LayerNorm.beta\n",
      "bert.encoder.layer.1.intermediate.dense.weight→encoder.layer.1.intermediate.dense.weight\n",
      "bert.encoder.layer.1.intermediate.dense.bias→encoder.layer.1.intermediate.dense.bias\n",
      "bert.encoder.layer.1.output.dense.weight→encoder.layer.1.output.dense.weight\n",
      "bert.encoder.layer.1.output.dense.bias→encoder.layer.1.output.dense.bias\n",
      "bert.encoder.layer.1.output.LayerNorm.weight→encoder.layer.1.output.LayerNorm.gamma\n",
      "bert.encoder.layer.1.output.LayerNorm.bias→encoder.layer.1.output.LayerNorm.beta\n",
      "bert.encoder.layer.2.attention.self.query.weight→encoder.layer.2.attention.selfattn.query.weight\n",
      "bert.encoder.layer.2.attention.self.query.bias→encoder.layer.2.attention.selfattn.query.bias\n",
      "bert.encoder.layer.2.attention.self.key.weight→encoder.layer.2.attention.selfattn.key.weight\n",
      "bert.encoder.layer.2.attention.self.key.bias→encoder.layer.2.attention.selfattn.key.bias\n",
      "bert.encoder.layer.2.attention.self.value.weight→encoder.layer.2.attention.selfattn.value.weight\n",
      "bert.encoder.layer.2.attention.self.value.bias→encoder.layer.2.attention.selfattn.value.bias\n",
      "bert.encoder.layer.2.attention.output.dense.weight→encoder.layer.2.attention.output.dense.weight\n",
      "bert.encoder.layer.2.attention.output.dense.bias→encoder.layer.2.attention.output.dense.bias\n",
      "bert.encoder.layer.2.attention.output.LayerNorm.weight→encoder.layer.2.attention.output.LayerNorm.gamma\n",
      "bert.encoder.layer.2.attention.output.LayerNorm.bias→encoder.layer.2.attention.output.LayerNorm.beta\n",
      "bert.encoder.layer.2.intermediate.dense.weight→encoder.layer.2.intermediate.dense.weight\n",
      "bert.encoder.layer.2.intermediate.dense.bias→encoder.layer.2.intermediate.dense.bias\n",
      "bert.encoder.layer.2.output.dense.weight→encoder.layer.2.output.dense.weight\n",
      "bert.encoder.layer.2.output.dense.bias→encoder.layer.2.output.dense.bias\n",
      "bert.encoder.layer.2.output.LayerNorm.weight→encoder.layer.2.output.LayerNorm.gamma\n",
      "bert.encoder.layer.2.output.LayerNorm.bias→encoder.layer.2.output.LayerNorm.beta\n",
      "bert.encoder.layer.3.attention.self.query.weight→encoder.layer.3.attention.selfattn.query.weight\n",
      "bert.encoder.layer.3.attention.self.query.bias→encoder.layer.3.attention.selfattn.query.bias\n",
      "bert.encoder.layer.3.attention.self.key.weight→encoder.layer.3.attention.selfattn.key.weight\n",
      "bert.encoder.layer.3.attention.self.key.bias→encoder.layer.3.attention.selfattn.key.bias\n",
      "bert.encoder.layer.3.attention.self.value.weight→encoder.layer.3.attention.selfattn.value.weight\n",
      "bert.encoder.layer.3.attention.self.value.bias→encoder.layer.3.attention.selfattn.value.bias\n",
      "bert.encoder.layer.3.attention.output.dense.weight→encoder.layer.3.attention.output.dense.weight\n",
      "bert.encoder.layer.3.attention.output.dense.bias→encoder.layer.3.attention.output.dense.bias\n",
      "bert.encoder.layer.3.attention.output.LayerNorm.weight→encoder.layer.3.attention.output.LayerNorm.gamma\n",
      "bert.encoder.layer.3.attention.output.LayerNorm.bias→encoder.layer.3.attention.output.LayerNorm.beta\n",
      "bert.encoder.layer.3.intermediate.dense.weight→encoder.layer.3.intermediate.dense.weight\n",
      "bert.encoder.layer.3.intermediate.dense.bias→encoder.layer.3.intermediate.dense.bias\n",
      "bert.encoder.layer.3.output.dense.weight→encoder.layer.3.output.dense.weight\n",
      "bert.encoder.layer.3.output.dense.bias→encoder.layer.3.output.dense.bias\n",
      "bert.encoder.layer.3.output.LayerNorm.weight→encoder.layer.3.output.LayerNorm.gamma\n",
      "bert.encoder.layer.3.output.LayerNorm.bias→encoder.layer.3.output.LayerNorm.beta\n",
      "bert.encoder.layer.4.attention.self.query.weight→encoder.layer.4.attention.selfattn.query.weight\n",
      "bert.encoder.layer.4.attention.self.query.bias→encoder.layer.4.attention.selfattn.query.bias\n",
      "bert.encoder.layer.4.attention.self.key.weight→encoder.layer.4.attention.selfattn.key.weight\n",
      "bert.encoder.layer.4.attention.self.key.bias→encoder.layer.4.attention.selfattn.key.bias\n",
      "bert.encoder.layer.4.attention.self.value.weight→encoder.layer.4.attention.selfattn.value.weight\n",
      "bert.encoder.layer.4.attention.self.value.bias→encoder.layer.4.attention.selfattn.value.bias\n",
      "bert.encoder.layer.4.attention.output.dense.weight→encoder.layer.4.attention.output.dense.weight\n",
      "bert.encoder.layer.4.attention.output.dense.bias→encoder.layer.4.attention.output.dense.bias\n",
      "bert.encoder.layer.4.attention.output.LayerNorm.weight→encoder.layer.4.attention.output.LayerNorm.gamma\n",
      "bert.encoder.layer.4.attention.output.LayerNorm.bias→encoder.layer.4.attention.output.LayerNorm.beta\n",
      "bert.encoder.layer.4.intermediate.dense.weight→encoder.layer.4.intermediate.dense.weight\n",
      "bert.encoder.layer.4.intermediate.dense.bias→encoder.layer.4.intermediate.dense.bias\n",
      "bert.encoder.layer.4.output.dense.weight→encoder.layer.4.output.dense.weight\n",
      "bert.encoder.layer.4.output.dense.bias→encoder.layer.4.output.dense.bias\n",
      "bert.encoder.layer.4.output.LayerNorm.weight→encoder.layer.4.output.LayerNorm.gamma\n",
      "bert.encoder.layer.4.output.LayerNorm.bias→encoder.layer.4.output.LayerNorm.beta\n",
      "bert.encoder.layer.5.attention.self.query.weight→encoder.layer.5.attention.selfattn.query.weight\n",
      "bert.encoder.layer.5.attention.self.query.bias→encoder.layer.5.attention.selfattn.query.bias\n",
      "bert.encoder.layer.5.attention.self.key.weight→encoder.layer.5.attention.selfattn.key.weight\n",
      "bert.encoder.layer.5.attention.self.key.bias→encoder.layer.5.attention.selfattn.key.bias\n",
      "bert.encoder.layer.5.attention.self.value.weight→encoder.layer.5.attention.selfattn.value.weight\n",
      "bert.encoder.layer.5.attention.self.value.bias→encoder.layer.5.attention.selfattn.value.bias\n",
      "bert.encoder.layer.5.attention.output.dense.weight→encoder.layer.5.attention.output.dense.weight\n",
      "bert.encoder.layer.5.attention.output.dense.bias→encoder.layer.5.attention.output.dense.bias\n",
      "bert.encoder.layer.5.attention.output.LayerNorm.weight→encoder.layer.5.attention.output.LayerNorm.gamma\n",
      "bert.encoder.layer.5.attention.output.LayerNorm.bias→encoder.layer.5.attention.output.LayerNorm.beta\n",
      "bert.encoder.layer.5.intermediate.dense.weight→encoder.layer.5.intermediate.dense.weight\n",
      "bert.encoder.layer.5.intermediate.dense.bias→encoder.layer.5.intermediate.dense.bias\n",
      "bert.encoder.layer.5.output.dense.weight→encoder.layer.5.output.dense.weight\n",
      "bert.encoder.layer.5.output.dense.bias→encoder.layer.5.output.dense.bias\n",
      "bert.encoder.layer.5.output.LayerNorm.weight→encoder.layer.5.output.LayerNorm.gamma\n",
      "bert.encoder.layer.5.output.LayerNorm.bias→encoder.layer.5.output.LayerNorm.beta\n",
      "bert.encoder.layer.6.attention.self.query.weight→encoder.layer.6.attention.selfattn.query.weight\n",
      "bert.encoder.layer.6.attention.self.query.bias→encoder.layer.6.attention.selfattn.query.bias\n",
      "bert.encoder.layer.6.attention.self.key.weight→encoder.layer.6.attention.selfattn.key.weight\n",
      "bert.encoder.layer.6.attention.self.key.bias→encoder.layer.6.attention.selfattn.key.bias\n",
      "bert.encoder.layer.6.attention.self.value.weight→encoder.layer.6.attention.selfattn.value.weight\n",
      "bert.encoder.layer.6.attention.self.value.bias→encoder.layer.6.attention.selfattn.value.bias\n",
      "bert.encoder.layer.6.attention.output.dense.weight→encoder.layer.6.attention.output.dense.weight\n",
      "bert.encoder.layer.6.attention.output.dense.bias→encoder.layer.6.attention.output.dense.bias\n",
      "bert.encoder.layer.6.attention.output.LayerNorm.weight→encoder.layer.6.attention.output.LayerNorm.gamma\n",
      "bert.encoder.layer.6.attention.output.LayerNorm.bias→encoder.layer.6.attention.output.LayerNorm.beta\n",
      "bert.encoder.layer.6.intermediate.dense.weight→encoder.layer.6.intermediate.dense.weight\n",
      "bert.encoder.layer.6.intermediate.dense.bias→encoder.layer.6.intermediate.dense.bias\n",
      "bert.encoder.layer.6.output.dense.weight→encoder.layer.6.output.dense.weight\n",
      "bert.encoder.layer.6.output.dense.bias→encoder.layer.6.output.dense.bias\n",
      "bert.encoder.layer.6.output.LayerNorm.weight→encoder.layer.6.output.LayerNorm.gamma\n",
      "bert.encoder.layer.6.output.LayerNorm.bias→encoder.layer.6.output.LayerNorm.beta\n",
      "bert.encoder.layer.7.attention.self.query.weight→encoder.layer.7.attention.selfattn.query.weight\n",
      "bert.encoder.layer.7.attention.self.query.bias→encoder.layer.7.attention.selfattn.query.bias\n",
      "bert.encoder.layer.7.attention.self.key.weight→encoder.layer.7.attention.selfattn.key.weight\n",
      "bert.encoder.layer.7.attention.self.key.bias→encoder.layer.7.attention.selfattn.key.bias\n",
      "bert.encoder.layer.7.attention.self.value.weight→encoder.layer.7.attention.selfattn.value.weight\n",
      "bert.encoder.layer.7.attention.self.value.bias→encoder.layer.7.attention.selfattn.value.bias\n",
      "bert.encoder.layer.7.attention.output.dense.weight→encoder.layer.7.attention.output.dense.weight\n",
      "bert.encoder.layer.7.attention.output.dense.bias→encoder.layer.7.attention.output.dense.bias\n",
      "bert.encoder.layer.7.attention.output.LayerNorm.weight→encoder.layer.7.attention.output.LayerNorm.gamma\n",
      "bert.encoder.layer.7.attention.output.LayerNorm.bias→encoder.layer.7.attention.output.LayerNorm.beta\n",
      "bert.encoder.layer.7.intermediate.dense.weight→encoder.layer.7.intermediate.dense.weight\n",
      "bert.encoder.layer.7.intermediate.dense.bias→encoder.layer.7.intermediate.dense.bias\n",
      "bert.encoder.layer.7.output.dense.weight→encoder.layer.7.output.dense.weight\n",
      "bert.encoder.layer.7.output.dense.bias→encoder.layer.7.output.dense.bias\n",
      "bert.encoder.layer.7.output.LayerNorm.weight→encoder.layer.7.output.LayerNorm.gamma\n",
      "bert.encoder.layer.7.output.LayerNorm.bias→encoder.layer.7.output.LayerNorm.beta\n",
      "bert.encoder.layer.8.attention.self.query.weight→encoder.layer.8.attention.selfattn.query.weight\n",
      "bert.encoder.layer.8.attention.self.query.bias→encoder.layer.8.attention.selfattn.query.bias\n",
      "bert.encoder.layer.8.attention.self.key.weight→encoder.layer.8.attention.selfattn.key.weight\n",
      "bert.encoder.layer.8.attention.self.key.bias→encoder.layer.8.attention.selfattn.key.bias\n",
      "bert.encoder.layer.8.attention.self.value.weight→encoder.layer.8.attention.selfattn.value.weight\n",
      "bert.encoder.layer.8.attention.self.value.bias→encoder.layer.8.attention.selfattn.value.bias\n",
      "bert.encoder.layer.8.attention.output.dense.weight→encoder.layer.8.attention.output.dense.weight\n",
      "bert.encoder.layer.8.attention.output.dense.bias→encoder.layer.8.attention.output.dense.bias\n",
      "bert.encoder.layer.8.attention.output.LayerNorm.weight→encoder.layer.8.attention.output.LayerNorm.gamma\n",
      "bert.encoder.layer.8.attention.output.LayerNorm.bias→encoder.layer.8.attention.output.LayerNorm.beta\n",
      "bert.encoder.layer.8.intermediate.dense.weight→encoder.layer.8.intermediate.dense.weight\n",
      "bert.encoder.layer.8.intermediate.dense.bias→encoder.layer.8.intermediate.dense.bias\n",
      "bert.encoder.layer.8.output.dense.weight→encoder.layer.8.output.dense.weight\n",
      "bert.encoder.layer.8.output.dense.bias→encoder.layer.8.output.dense.bias\n",
      "bert.encoder.layer.8.output.LayerNorm.weight→encoder.layer.8.output.LayerNorm.gamma\n",
      "bert.encoder.layer.8.output.LayerNorm.bias→encoder.layer.8.output.LayerNorm.beta\n",
      "bert.encoder.layer.9.attention.self.query.weight→encoder.layer.9.attention.selfattn.query.weight\n",
      "bert.encoder.layer.9.attention.self.query.bias→encoder.layer.9.attention.selfattn.query.bias\n",
      "bert.encoder.layer.9.attention.self.key.weight→encoder.layer.9.attention.selfattn.key.weight\n",
      "bert.encoder.layer.9.attention.self.key.bias→encoder.layer.9.attention.selfattn.key.bias\n",
      "bert.encoder.layer.9.attention.self.value.weight→encoder.layer.9.attention.selfattn.value.weight\n",
      "bert.encoder.layer.9.attention.self.value.bias→encoder.layer.9.attention.selfattn.value.bias\n",
      "bert.encoder.layer.9.attention.output.dense.weight→encoder.layer.9.attention.output.dense.weight\n",
      "bert.encoder.layer.9.attention.output.dense.bias→encoder.layer.9.attention.output.dense.bias\n",
      "bert.encoder.layer.9.attention.output.LayerNorm.weight→encoder.layer.9.attention.output.LayerNorm.gamma\n",
      "bert.encoder.layer.9.attention.output.LayerNorm.bias→encoder.layer.9.attention.output.LayerNorm.beta\n",
      "bert.encoder.layer.9.intermediate.dense.weight→encoder.layer.9.intermediate.dense.weight\n",
      "bert.encoder.layer.9.intermediate.dense.bias→encoder.layer.9.intermediate.dense.bias\n",
      "bert.encoder.layer.9.output.dense.weight→encoder.layer.9.output.dense.weight\n",
      "bert.encoder.layer.9.output.dense.bias→encoder.layer.9.output.dense.bias\n",
      "bert.encoder.layer.9.output.LayerNorm.weight→encoder.layer.9.output.LayerNorm.gamma\n",
      "bert.encoder.layer.9.output.LayerNorm.bias→encoder.layer.9.output.LayerNorm.beta\n",
      "bert.encoder.layer.10.attention.self.query.weight→encoder.layer.10.attention.selfattn.query.weight\n",
      "bert.encoder.layer.10.attention.self.query.bias→encoder.layer.10.attention.selfattn.query.bias\n",
      "bert.encoder.layer.10.attention.self.key.weight→encoder.layer.10.attention.selfattn.key.weight\n",
      "bert.encoder.layer.10.attention.self.key.bias→encoder.layer.10.attention.selfattn.key.bias\n",
      "bert.encoder.layer.10.attention.self.value.weight→encoder.layer.10.attention.selfattn.value.weight\n",
      "bert.encoder.layer.10.attention.self.value.bias→encoder.layer.10.attention.selfattn.value.bias\n",
      "bert.encoder.layer.10.attention.output.dense.weight→encoder.layer.10.attention.output.dense.weight\n",
      "bert.encoder.layer.10.attention.output.dense.bias→encoder.layer.10.attention.output.dense.bias\n",
      "bert.encoder.layer.10.attention.output.LayerNorm.weight→encoder.layer.10.attention.output.LayerNorm.gamma\n",
      "bert.encoder.layer.10.attention.output.LayerNorm.bias→encoder.layer.10.attention.output.LayerNorm.beta\n",
      "bert.encoder.layer.10.intermediate.dense.weight→encoder.layer.10.intermediate.dense.weight\n",
      "bert.encoder.layer.10.intermediate.dense.bias→encoder.layer.10.intermediate.dense.bias\n",
      "bert.encoder.layer.10.output.dense.weight→encoder.layer.10.output.dense.weight\n",
      "bert.encoder.layer.10.output.dense.bias→encoder.layer.10.output.dense.bias\n",
      "bert.encoder.layer.10.output.LayerNorm.weight→encoder.layer.10.output.LayerNorm.gamma\n",
      "bert.encoder.layer.10.output.LayerNorm.bias→encoder.layer.10.output.LayerNorm.beta\n",
      "bert.encoder.layer.11.attention.self.query.weight→encoder.layer.11.attention.selfattn.query.weight\n",
      "bert.encoder.layer.11.attention.self.query.bias→encoder.layer.11.attention.selfattn.query.bias\n",
      "bert.encoder.layer.11.attention.self.key.weight→encoder.layer.11.attention.selfattn.key.weight\n",
      "bert.encoder.layer.11.attention.self.key.bias→encoder.layer.11.attention.selfattn.key.bias\n",
      "bert.encoder.layer.11.attention.self.value.weight→encoder.layer.11.attention.selfattn.value.weight\n",
      "bert.encoder.layer.11.attention.self.value.bias→encoder.layer.11.attention.selfattn.value.bias\n",
      "bert.encoder.layer.11.attention.output.dense.weight→encoder.layer.11.attention.output.dense.weight\n",
      "bert.encoder.layer.11.attention.output.dense.bias→encoder.layer.11.attention.output.dense.bias\n",
      "bert.encoder.layer.11.attention.output.LayerNorm.weight→encoder.layer.11.attention.output.LayerNorm.gamma\n",
      "bert.encoder.layer.11.attention.output.LayerNorm.bias→encoder.layer.11.attention.output.LayerNorm.beta\n",
      "bert.encoder.layer.11.intermediate.dense.weight→encoder.layer.11.intermediate.dense.weight\n",
      "bert.encoder.layer.11.intermediate.dense.bias→encoder.layer.11.intermediate.dense.bias\n",
      "bert.encoder.layer.11.output.dense.weight→encoder.layer.11.output.dense.weight\n",
      "bert.encoder.layer.11.output.dense.bias→encoder.layer.11.output.dense.bias\n",
      "bert.encoder.layer.11.output.LayerNorm.weight→encoder.layer.11.output.LayerNorm.gamma\n",
      "bert.encoder.layer.11.output.LayerNorm.bias→encoder.layer.11.output.LayerNorm.beta\n",
      "bert.pooler.dense.weight→pooler.dense.weight\n",
      "bert.pooler.dense.bias→pooler.dense.bias\n"
     ]
    }
   ],
   "source": [
    "from utils.bert import get_config, BertModel, set_learned_params\n",
    "\n",
    "# モデル設定のJOSNファイルをオブジェクト変数として読み込みます\n",
    "config = get_config(file_path=\"./weights/config.json\")\n",
    "\n",
    "# BERTモデルを作成します\n",
    "net_bert = BertModel(config)\n",
    "\n",
    "# BERTモデルに学習済みパラメータセットします\n",
    "net_bert = set_learned_params(\n",
    "    net_bert, weights_path=\"./weights/pytorch_model.bin\")\n"
   ]
  },
  {
   "cell_type": "code",
   "execution_count": 7,
   "metadata": {},
   "outputs": [],
   "source": [
    "class BertClassifier(nn.Module):\n",
    "\n",
    "    def __init__(self, net_bert):\n",
    "        super(BertClassifier, self).__init__()\n",
    "\n",
    "        # BERTモジュール\n",
    "        self.bert = net_bert  # BERTモデル\n",
    "\n",
    "        # headに予測を追加\n",
    "        # 入力はBERTの出力特徴量の次元、出力は2つ\n",
    "        self.cls = nn.Linear(in_features=768, out_features=2)\n",
    "        #増やす場合はout_reaturesを変更する\n",
    "        #self.cls = nn.Linear(in_features=768, out_features=3)\n",
    "\n",
    "        # 重み初期化処理\n",
    "        nn.init.normal_(self.cls.weight, std=0.02)\n",
    "        nn.init.normal_(self.cls.bias, 0)\n",
    "\n",
    "    def forward(self, input_ids, token_type_ids=None, attention_mask=None, output_all_encoded_layers=False, attention_show_flg=False):\n",
    "        '''\n",
    "        input_ids： [batch_size, sequence_length]の文章の単語IDの羅列\n",
    "        token_type_ids： [batch_size, sequence_length]の、各単語が1文目なのか、2文目なのかを示すid\n",
    "        attention_mask：Transformerのマスクと同じ働きのマスキングです\n",
    "        output_all_encoded_layers：最終出力に12段のTransformerの全部をリストで返すか、最後だけかを指定\n",
    "        attention_show_flg：Self-Attentionの重みを返すかのフラグ\n",
    "        '''\n",
    "\n",
    "        # BERTの基本モデル部分の順伝搬\n",
    "        # 順伝搬させる\n",
    "        if attention_show_flg == True:\n",
    "            '''attention_showのときは、attention_probsもリターンする'''\n",
    "            encoded_layers, pooled_output, attention_probs = self.bert(\n",
    "                input_ids, token_type_ids, attention_mask, output_all_encoded_layers, attention_show_flg)\n",
    "        elif attention_show_flg == False:\n",
    "            encoded_layers, pooled_output = self.bert(\n",
    "                input_ids, token_type_ids, attention_mask, output_all_encoded_layers, attention_show_flg)\n",
    "\n",
    "        # 入力文章の1単語目[CLS]の特徴量を使用して、分類します\n",
    "        vec_0 = encoded_layers[:, 0, :]\n",
    "        vec_0 = vec_0.view(-1, 768)  # sizeを[batch_size, hidden_sizeに変換\n",
    "        out = self.cls(vec_0)\n",
    "\n",
    "        # attention_showのときは、attention_probs（1番最後の）もリターンする\n",
    "        if attention_show_flg == True:\n",
    "            return out, attention_probs\n",
    "        elif attention_show_flg == False:\n",
    "            return out\n"
   ]
  },
  {
   "cell_type": "code",
   "execution_count": 8,
   "metadata": {},
   "outputs": [
    {
     "name": "stdout",
     "output_type": "stream",
     "text": [
      "ネットワーク設定完了\n"
     ]
    }
   ],
   "source": [
    "# モデル構築\n",
    "net = BertClassifier(net_bert)\n",
    "\n",
    "# 訓練モードに設定\n",
    "net.train()\n",
    "\n",
    "print('ネットワーク設定完了')\n"
   ]
  },
  {
   "cell_type": "markdown",
   "metadata": {},
   "source": [
    "# ＊BERTのファインチューニング"
   ]
  },
  {
   "cell_type": "code",
   "execution_count": 9,
   "metadata": {},
   "outputs": [],
   "source": [
    "# 勾配計算を最後のBertLayerモジュールと追加した分類アダプターのみ実行\n",
    "\n",
    "# 1. まず全部を、勾配計算Falseにしてしまう\n",
    "for name, param in net.named_parameters():\n",
    "    param.requires_grad = False\n",
    "\n",
    "# 2. 最後のBertLayerモジュールを勾配計算ありに変更\n",
    "for name, param in net.bert.encoder.layer[-1].named_parameters():\n",
    "    param.requires_grad = True\n",
    "\n",
    "# 3. 識別器を勾配計算ありに変更\n",
    "for name, param in net.cls.named_parameters():\n",
    "    param.requires_grad = True\n"
   ]
  },
  {
   "cell_type": "code",
   "execution_count": 10,
   "metadata": {},
   "outputs": [],
   "source": [
    "# 最適化手法の設定\n",
    "\n",
    "# BERTの元の部分はファインチューニング\n",
    "optimizer = optim.Adam([\n",
    "    {'params': net.bert.encoder.layer[-1].parameters(), 'lr': 5e-5},\n",
    "    {'params': net.cls.parameters(), 'lr': 1e-3}\n",
    "], betas=(0.9, 0.999))\n",
    "\n",
    "# 損失関数の設定\n",
    "criterion = nn.CrossEntropyLoss()\n",
    "# nn.LogSoftmax()を計算してからnn.NLLLoss(negative log likelihood loss)を計算\n"
   ]
  },
  {
   "cell_type": "markdown",
   "metadata": {},
   "source": [
    "# ＊学習・検証"
   ]
  },
  {
   "cell_type": "markdown",
   "metadata": {},
   "source": [
    "## ＊ 開発データでハイパーパラメータを決定"
   ]
  },
  {
   "cell_type": "code",
   "execution_count": null,
   "metadata": {},
   "outputs": [],
   "source": [
    "# モデルを学習させる関数を作成\n",
    "#from utils.pytorchtools import EarlyStopping\n",
    "def train_model(net, dataloaders_dict, criterion, optimizer, num_epochs):\n",
    "    #エポック数,Acuraccy,Loss保存用\n",
    "    Epochs=[]\n",
    "    Accuracy_train=[]\n",
    "    Loss_train=[]\n",
    "    Accuracy_val=[]\n",
    "    Loss_val=[]\n",
    "    \n",
    "    #イテレータのエポック数,Acuraccy,Loss保存用\n",
    "    Epochs_it=[]\n",
    "    Accuracy_train_it=[]\n",
    "    Loss_train_it=[]\n",
    "    \n",
    "    # GPUが使えるかを確認\n",
    "    device = torch.device(\"cuda:0\" if torch.cuda.is_available() else \"cpu\")\n",
    "    #device = torch.device(\"cpu\")\n",
    "    print(\"使用デバイス：\", device)\n",
    "    print('-----start-------')\n",
    "    #early_stopping = EarlyStopping(patience=10)\n",
    "    # ネットワークをGPUへ\n",
    "    net.to(device)\n",
    "\n",
    "    # ネットワークがある程度固定であれば、高速化させる\n",
    "    torch.backends.cudnn.benchmark = True\n",
    "\n",
    "    # ミニバッチのサイズ\n",
    "    batch_size = dataloaders_dict[\"train\"].batch_size\n",
    "    n=0\n",
    "    #時間\n",
    "    start =time.time()\n",
    "    # epochのループ\n",
    "    for epoch in range(num_epochs):\n",
    "        \"\"\"\n",
    "        if early_stopping.early_stop:\n",
    "            print(\"Early Stopping\")\n",
    "            break # 打ち切り\n",
    "        # epochごとの訓練と検証のループ\n",
    "        \"\"\"\n",
    "        \n",
    "        for phase in ['train', 'val']:\n",
    "            count=0\n",
    "            if phase == 'train':\n",
    "                net.train()  # モデルを訓練モードに\n",
    "            else:\n",
    "                net.eval()   # モデルを検証モードに\n",
    "                count=1\n",
    "            \n",
    "            epoch_loss = 0.0  # epochの損失和\n",
    "            epoch_corrects = 0  # epochの正解数\n",
    "            iteration = 1\n",
    "\n",
    "            # 開始時刻を保存\n",
    "            t_epoch_start = time.time()\n",
    "            t_iter_start = time.time()\n",
    "\n",
    "            # データローダーからミニバッチを取り出すループ\n",
    "            for batch in (dataloaders_dict[phase]):\n",
    "                # batchはTextとLableの辞書型変数\n",
    "\n",
    "                # GPUが使えるならGPUにデータを送る\n",
    "                inputs = batch.Text[0].to(device)  # 文章\n",
    "                labels = batch.Label.to(device)  # ラベル\n",
    "\n",
    "                # optimizerを初期化\n",
    "                optimizer.zero_grad()\n",
    "\n",
    "                # 順伝搬（forward）計算\n",
    "                with torch.set_grad_enabled(phase == 'train'):\n",
    "\n",
    "                    # BertForIMDbに入力\n",
    "                    outputs = net(inputs, token_type_ids=None, attention_mask=None,\n",
    "                                  output_all_encoded_layers=False, attention_show_flg=False)\n",
    "\n",
    "                    loss = criterion(outputs, labels)  # 損失を計算\n",
    "\n",
    "                    _, preds = torch.max(outputs, 1)  # ラベルを予測\n",
    "                    \n",
    "\n",
    "                    # 訓練時はバックプロパゲーション\n",
    "                    if phase == 'train':\n",
    "                        loss.backward()\n",
    "                        optimizer.step()\n",
    "                        \n",
    "                        \n",
    "                        if (iteration % 10 == 0):  # 10iterに1度、lossを表示\n",
    "                            t_iter_finish = time.time()\n",
    "                            duration = t_iter_finish - t_iter_start\n",
    "                            acc = (torch.sum(preds == labels.data)).double()/batch_size\n",
    "                            print('イテレーション {} || Loss: {:.4f} || 10iter: {:.4f} sec. || 本イテレーションの正解率：{}'.format(iteration, loss.item(), duration, acc))\n",
    "                            t_iter_start = time.time()\n",
    "                            \n",
    "                            \"\"\"\n",
    "                            Epochs_it.append(iteration/10)\n",
    "                            Accuracy_train_it.append(acc)\n",
    "                            Loss_train_it.append(loss.item())\n",
    "                            \"\"\"\n",
    "                            #early_stopping(loss.item(), net)\n",
    "                                       \n",
    "\n",
    "                    iteration += 1\n",
    "\n",
    "                    # 損失と正解数の合計を更新\n",
    "                    epoch_loss += loss.item() * batch_size\n",
    "                    epoch_corrects += torch.sum(preds == labels.data)\n",
    "                    \n",
    "            # epochごとのlossと正解率\n",
    "            t_epoch_finish = time.time()\n",
    "            epoch_loss = epoch_loss / len(dataloaders_dict[phase].dataset)\n",
    "            epoch_acc = epoch_corrects.double(\n",
    "            ) / len(dataloaders_dict[phase].dataset)\n",
    "\n",
    "            print('Epoch {}/{} | {:^5} |  Loss: {:.4f} Acc: {:.4f}'.format(epoch+1, num_epochs,\n",
    "                                                                           phase, epoch_loss, epoch_acc))\n",
    "            \n",
    "            a=float(\"{:.4f}\".format(epoch_acc))\n",
    "                \n",
    "            t_epoch_start = time.time()\n",
    "            \n",
    "            if count == 0:\n",
    "                Loss_train.append(epoch_loss)\n",
    "                Accuracy_train.append(a)\n",
    "            elif count==1:\n",
    "                Loss_val.append(epoch_loss)\n",
    "                Accuracy_val.append(a)\n",
    "        Epochs.append(epoch+1)\n",
    "    t=time.time()\n",
    "    print(\"Time:{:.4f}sec\".format(t-start))\n",
    "        \n",
    "    return net,Epochs,Loss_train,Accuracy_train,Loss_val,Accuracy_val\n"
   ]
  },
  {
   "cell_type": "code",
   "execution_count": null,
   "metadata": {
    "scrolled": true
   },
   "outputs": [],
   "source": [
    "# 学習・検証を実行する。1epochに20分ほどかかります\n",
    "num_epochs = 30\n",
    "net_trained, Epochs, Loss_train, Accuracy_train, Loss_val, Accuracy_val = train_model(net, dataloaders_dict_val,\n",
    "                          criterion, optimizer, num_epochs=num_epochs)\n"
   ]
  },
  {
   "cell_type": "markdown",
   "metadata": {},
   "source": [
    "## ＊学習時のEpochsごとのAccuracyを出力"
   ]
  },
  {
   "cell_type": "code",
   "execution_count": 14,
   "metadata": {},
   "outputs": [
    {
     "data": {
      "image/png": "[encoded data removed]",
      "text/plain": [
       "<Figure size 432x288 with 1 Axes>"
      ]
     },
     "metadata": {
      "needs_background": "light"
     },
     "output_type": "display_data"
    }
   ],
   "source": [
    "import matplotlib.pyplot as plt\n",
    "#print(Accuracy_train)\n",
    "#print(Accuracy_val)\n",
    "#Accuracy_test=[]\n",
    "plt.plot(Epochs,Accuracy_train,color=\"blue\",label=\"train\")\n",
    "plt.plot(Epochs,Accuracy_val,color=\"red\",label=\"val\")\n",
    "#plt.plot(Epochs,Accuracy_test,color=\"red\",label=\"test\")\n",
    "plt.xticks(Epochs)\n",
    "plt.xlabel(\"Epochs\")\n",
    "plt.ylabel(\"Accuracy\")\n",
    "plt.grid()\n",
    "plt.legend()\n",
    "plt.savefig(path_result+\"acc_val.png\")"
   ]
  },
  {
   "cell_type": "markdown",
   "metadata": {},
   "source": [
    "## ＊学習時のEpochsごとのLossを出力"
   ]
  },
  {
   "cell_type": "code",
   "execution_count": 15,
   "metadata": {},
   "outputs": [
    {
     "data": {
      "image/png": "[encoded data removed]",
      "text/plain": [
       "<Figure size 432x288 with 1 Axes>"
      ]
     },
     "metadata": {
      "needs_background": "light"
     },
     "output_type": "display_data"
    }
   ],
   "source": [
    "#plt.axes().set_aspect(\"equal\")\n",
    "#Loss_test=[]\n",
    "plt.plot(Epochs, Loss_train,color=\"blue\",label=\"train\")\n",
    "plt.plot(Epochs, Loss_val,color=\"red\",label=\"val\")\n",
    "#plt.plot(Epochs,Loss_test,color=\"red\",label=\"test\")\n",
    "plt.xticks(Epochs)\n",
    "plt.xlabel(\"Epochs\")\n",
    "plt.ylabel(\"Loss\")\n",
    "plt.grid()\n",
    "plt.legend()\n",
    "plt.savefig(path_result+\"Loss_val.png\")"
   ]
  },
  {
   "cell_type": "markdown",
   "metadata": {},
   "source": [
    "## ＊ 全データで学習"
   ]
  },
  {
   "cell_type": "code",
   "execution_count": 11,
   "metadata": {},
   "outputs": [],
   "source": [
    "# モデルを学習させる関数を作成\n",
    "#from utils.pytorchtools import EarlyStopping\n",
    "def train_model(net, dataloaders_dict, criterion, optimizer, num_epochs):\n",
    "    #エポック数,Acuraccy,Loss保存用\n",
    "    Epochs=[]\n",
    "    Accuracy_train=[]\n",
    "    Loss_train=[]\n",
    "    Accuracy_val=[]\n",
    "    Loss_val=[]\n",
    "    \n",
    "    #イテレータのエポック数,Acuraccy,Loss保存用\n",
    "    Epochs_it=[]\n",
    "    Accuracy_train_it=[]\n",
    "    Loss_train_it=[]\n",
    "    \n",
    "    # GPUが使えるかを確認\n",
    "    device = torch.device(\"cuda:0\" if torch.cuda.is_available() else \"cpu\")\n",
    "    #device = torch.device(\"cpu\")\n",
    "    print(\"使用デバイス：\", device)\n",
    "    print('-----start-------')\n",
    "    #early_stopping = EarlyStopping(patience=10)\n",
    "    # ネットワークをGPUへ\n",
    "    net.to(device)\n",
    "\n",
    "    # ネットワークがある程度固定であれば、高速化させる\n",
    "    torch.backends.cudnn.benchmark = True\n",
    "\n",
    "    # ミニバッチのサイズ\n",
    "    batch_size = dataloaders_dict[\"train\"].batch_size\n",
    "    n=0\n",
    "    #時間\n",
    "    start =time.time()\n",
    "    # epochのループ\n",
    "    for epoch in range(num_epochs):\n",
    "        \"\"\"\n",
    "        if early_stopping.early_stop:\n",
    "            print(\"Early Stopping\")\n",
    "            break # 打ち切り\n",
    "        # epochごとの訓練と検証のループ\n",
    "        \"\"\"\n",
    "        \n",
    "        #for phase in ['train', 'val']:\n",
    "        for phase in ['train']:\n",
    "            count=0\n",
    "            if phase == 'train':\n",
    "                net.train()  # モデルを訓練モードに\n",
    "            else:\n",
    "                net.eval()   # モデルを検証モードに\n",
    "                count=1\n",
    "            \n",
    "            epoch_loss = 0.0  # epochの損失和\n",
    "            epoch_corrects = 0  # epochの正解数\n",
    "            iteration = 1\n",
    "\n",
    "            # 開始時刻を保存\n",
    "            t_epoch_start = time.time()\n",
    "            t_iter_start = time.time()\n",
    "\n",
    "            # データローダーからミニバッチを取り出すループ\n",
    "            for batch in (dataloaders_dict[phase]):\n",
    "                # batchはTextとLableの辞書型変数\n",
    "\n",
    "                # GPUが使えるならGPUにデータを送る\n",
    "                inputs = batch.Text[0].to(device)  # 文章\n",
    "                labels = batch.Label.to(device)  # ラベル\n",
    "\n",
    "                # optimizerを初期化\n",
    "                optimizer.zero_grad()\n",
    "\n",
    "                # 順伝搬（forward）計算\n",
    "                with torch.set_grad_enabled(phase == 'train'):\n",
    "\n",
    "                    # BertForIMDbに入力\n",
    "                    outputs = net(inputs, token_type_ids=None, attention_mask=None,\n",
    "                                  output_all_encoded_layers=False, attention_show_flg=False)\n",
    "\n",
    "                    loss = criterion(outputs, labels)  # 損失を計算\n",
    "\n",
    "                    _, preds = torch.max(outputs, 1)  # ラベルを予測\n",
    "                    \n",
    "\n",
    "                    # 訓練時はバックプロパゲーション\n",
    "                    if phase == 'train':\n",
    "                        loss.backward()\n",
    "                        optimizer.step()\n",
    "                        \n",
    "                        \n",
    "                        if (iteration % 10 == 0):  # 10iterに1度、lossを表示\n",
    "                            t_iter_finish = time.time()\n",
    "                            duration = t_iter_finish - t_iter_start\n",
    "                            acc = (torch.sum(preds == labels.data)).double()/batch_size\n",
    "                            print('イテレーション {} || Loss: {:.4f} || 10iter: {:.4f} sec. || 本イテレーションの正解率：{}'.format(iteration, loss.item(), duration, acc))\n",
    "                            t_iter_start = time.time()\n",
    "                            \n",
    "                            \"\"\"\n",
    "                            Epochs_it.append(iteration/10)\n",
    "                            Accuracy_train_it.append(acc)\n",
    "                            Loss_train_it.append(loss.item())\n",
    "                            \"\"\"\n",
    "                            #early_stopping(loss.item(), net)\n",
    "                                       \n",
    "\n",
    "                    iteration += 1\n",
    "\n",
    "                    # 損失と正解数の合計を更新\n",
    "                    epoch_loss += loss.item() * batch_size\n",
    "                    epoch_corrects += torch.sum(preds == labels.data)\n",
    "                    \n",
    "            # epochごとのlossと正解率\n",
    "            t_epoch_finish = time.time()\n",
    "            epoch_loss = epoch_loss / len(dataloaders_dict[phase].dataset)\n",
    "            epoch_acc = epoch_corrects.double(\n",
    "            ) / len(dataloaders_dict[phase].dataset)\n",
    "\n",
    "            print('Epoch {}/{} | {:^5} |  Loss: {:.4f} Acc: {:.4f}'.format(epoch+1, num_epochs,\n",
    "                                                                           phase, epoch_loss, epoch_acc))\n",
    "            \n",
    "            a=float(\"{:.4f}\".format(epoch_acc))\n",
    "                \n",
    "            t_epoch_start = time.time()\n",
    "            \n",
    "            if count == 0:\n",
    "                Loss_train.append(epoch_loss)\n",
    "                Accuracy_train.append(a)\n",
    "            elif count==1:\n",
    "                Loss_val.append(epoch_loss)\n",
    "                Accuracy_val.append(a)\n",
    "        Epochs.append(epoch+1)\n",
    "    t=time.time()\n",
    "    print(\"Time:{:.4f}sec\".format(t-start))\n",
    "        \n",
    "    return net,Epochs,Loss_train,Accuracy_train,Loss_val,Accuracy_val\n"
   ]
  },
  {
   "cell_type": "code",
   "execution_count": 12,
   "metadata": {
    "scrolled": true
   },
   "outputs": [
    {
     "name": "stdout",
     "output_type": "stream",
     "text": [
      "使用デバイス： cuda:0\n",
      "-----start-------\n",
      "イテレーション 10 || Loss: 0.4174 || 10iter: 0.9877 sec. || 本イテレーションの正解率：0.8125\n",
      "イテレーション 20 || Loss: 0.3592 || 10iter: 0.9631 sec. || 本イテレーションの正解率：0.84375\n",
      "イテレーション 30 || Loss: 0.3391 || 10iter: 0.9627 sec. || 本イテレーションの正解率：0.8125\n",
      "イテレーション 40 || Loss: 0.3425 || 10iter: 0.9634 sec. || 本イテレーションの正解率：0.90625\n",
      "イテレーション 50 || Loss: 0.4970 || 10iter: 0.9630 sec. || 本イテレーションの正解率：0.78125\n",
      "イテレーション 60 || Loss: 0.4121 || 10iter: 0.9644 sec. || 本イテレーションの正解率：0.84375\n",
      "イテレーション 70 || Loss: 0.4136 || 10iter: 0.9654 sec. || 本イテレーションの正解率：0.8125\n",
      "イテレーション 80 || Loss: 0.4260 || 10iter: 0.9660 sec. || 本イテレーションの正解率：0.78125\n",
      "イテレーション 90 || Loss: 0.3878 || 10iter: 0.9653 sec. || 本イテレーションの正解率：0.84375\n",
      "イテレーション 100 || Loss: 0.3116 || 10iter: 0.9660 sec. || 本イテレーションの正解率：0.8125\n",
      "イテレーション 110 || Loss: 0.3178 || 10iter: 0.9667 sec. || 本イテレーションの正解率：0.90625\n",
      "イテレーション 120 || Loss: 0.2970 || 10iter: 0.9678 sec. || 本イテレーションの正解率：0.875\n",
      "イテレーション 130 || Loss: 0.3524 || 10iter: 0.9682 sec. || 本イテレーションの正解率：0.78125\n",
      "イテレーション 140 || Loss: 0.3382 || 10iter: 0.9695 sec. || 本イテレーションの正解率：0.8125\n",
      "イテレーション 150 || Loss: 0.4440 || 10iter: 0.9703 sec. || 本イテレーションの正解率：0.84375\n",
      "イテレーション 160 || Loss: 0.2377 || 10iter: 0.9702 sec. || 本イテレーションの正解率：0.875\n",
      "Epoch 1/3 | train |  Loss: 0.3628 Acc: 0.8384\n",
      "イテレーション 10 || Loss: 0.3355 || 10iter: 0.9749 sec. || 本イテレーションの正解率：0.84375\n",
      "イテレーション 20 || Loss: 0.5731 || 10iter: 0.9713 sec. || 本イテレーションの正解率：0.75\n",
      "イテレーション 30 || Loss: 0.3179 || 10iter: 0.9715 sec. || 本イテレーションの正解率：0.875\n",
      "イテレーション 40 || Loss: 0.2640 || 10iter: 0.9718 sec. || 本イテレーションの正解率：0.875\n",
      "イテレーション 50 || Loss: 0.2233 || 10iter: 0.9747 sec. || 本イテレーションの正解率：0.90625\n",
      "イテレーション 60 || Loss: 0.3524 || 10iter: 0.9744 sec. || 本イテレーションの正解率：0.875\n",
      "イテレーション 70 || Loss: 0.3823 || 10iter: 0.9749 sec. || 本イテレーションの正解率：0.84375\n",
      "イテレーション 80 || Loss: 0.2010 || 10iter: 0.9750 sec. || 本イテレーションの正解率：0.90625\n",
      "イテレーション 90 || Loss: 0.2085 || 10iter: 0.9753 sec. || 本イテレーションの正解率：0.875\n",
      "イテレーション 100 || Loss: 0.1849 || 10iter: 0.9766 sec. || 本イテレーションの正解率：0.90625\n",
      "イテレーション 110 || Loss: 0.2726 || 10iter: 0.9764 sec. || 本イテレーションの正解率：0.875\n",
      "イテレーション 120 || Loss: 0.2354 || 10iter: 0.9766 sec. || 本イテレーションの正解率：0.90625\n",
      "イテレーション 130 || Loss: 0.2316 || 10iter: 0.9798 sec. || 本イテレーションの正解率：0.875\n",
      "イテレーション 140 || Loss: 0.2832 || 10iter: 0.9799 sec. || 本イテレーションの正解率：0.90625\n",
      "イテレーション 150 || Loss: 0.1969 || 10iter: 0.9793 sec. || 本イテレーションの正解率：0.9375\n",
      "イテレーション 160 || Loss: 0.3211 || 10iter: 0.9805 sec. || 本イテレーションの正解率：0.84375\n",
      "Epoch 2/3 | train |  Loss: 0.2928 Acc: 0.8783\n",
      "イテレーション 10 || Loss: 0.3781 || 10iter: 0.9845 sec. || 本イテレーションの正解率：0.875\n",
      "イテレーション 20 || Loss: 0.3225 || 10iter: 0.9816 sec. || 本イテレーションの正解率：0.90625\n",
      "イテレーション 30 || Loss: 0.6480 || 10iter: 0.9832 sec. || 本イテレーションの正解率：0.71875\n",
      "イテレーション 40 || Loss: 0.1499 || 10iter: 0.9821 sec. || 本イテレーションの正解率：0.96875\n",
      "イテレーション 50 || Loss: 0.2120 || 10iter: 0.9838 sec. || 本イテレーションの正解率：0.90625\n",
      "イテレーション 60 || Loss: 0.1115 || 10iter: 0.9850 sec. || 本イテレーションの正解率：0.96875\n",
      "イテレーション 70 || Loss: 0.1820 || 10iter: 0.9852 sec. || 本イテレーションの正解率：0.90625\n",
      "イテレーション 80 || Loss: 0.1658 || 10iter: 0.9850 sec. || 本イテレーションの正解率：0.9375\n",
      "イテレーション 90 || Loss: 0.2921 || 10iter: 0.9875 sec. || 本イテレーションの正解率：0.84375\n",
      "イテレーション 100 || Loss: 0.3674 || 10iter: 0.9863 sec. || 本イテレーションの正解率：0.90625\n",
      "イテレーション 110 || Loss: 0.1743 || 10iter: 0.9867 sec. || 本イテレーションの正解率：0.90625\n",
      "イテレーション 120 || Loss: 0.2148 || 10iter: 0.9875 sec. || 本イテレーションの正解率：0.9375\n",
      "イテレーション 130 || Loss: 0.2013 || 10iter: 0.9886 sec. || 本イテレーションの正解率：0.875\n",
      "イテレーション 140 || Loss: 0.4473 || 10iter: 0.9884 sec. || 本イテレーションの正解率：0.8125\n",
      "イテレーション 150 || Loss: 0.1590 || 10iter: 0.9889 sec. || 本イテレーションの正解率：0.90625\n",
      "イテレーション 160 || Loss: 0.2240 || 10iter: 0.9896 sec. || 本イテレーションの正解率：0.875\n",
      "Epoch 3/3 | train |  Loss: 0.2658 Acc: 0.8932\n",
      "Time:52.2230sec\n"
     ]
    }
   ],
   "source": [
    "# 学習・検証を実行する。\n",
    "num_epochs = 3\n",
    "net_trained, Epochs, Loss_train, Accuracy_train, Loss_val, Accuracy_val = train_model(net, dataloaders_dict,\n",
    "                          criterion, optimizer, num_epochs=num_epochs)"
   ]
  },
  {
   "cell_type": "code",
   "execution_count": 13,
   "metadata": {},
   "outputs": [],
   "source": [
    "# 学習したネットワークパラメータを保存します\n",
    "save_path = path_weights+'bert_fine_tuning.pth'\n",
    "torch.save(net_trained.state_dict(), save_path)"
   ]
  },
  {
   "cell_type": "markdown",
   "metadata": {},
   "source": [
    "## ＊＊＊保存しているモデルを使用する場合＊＊＊\n",
    "- BERTモデルを構築\n"
   ]
  },
  {
   "cell_type": "code",
   "execution_count": null,
   "metadata": {},
   "outputs": [],
   "source": [
    "from utils.bert import get_config, BertModel, set_learned_params\n",
    "\n",
    "# モデル設定のJOSNファイルをオブジェクト変数として読み込みます\n",
    "config = get_config(file_path=\"./weights/config.json\")\n",
    "\n",
    "# BERTモデルを作成します\n",
    "net_bert = BertModel(config)\n",
    "\n",
    "# BERTモデルに学習済みパラメータセットします\n",
    "net_bert = set_learned_params(\n",
    "    net_bert, weights_path=\"./weights/pytorch_model.bin\")\n"
   ]
  },
  {
   "cell_type": "code",
   "execution_count": null,
   "metadata": {},
   "outputs": [],
   "source": [
    "class BertClassifier(nn.Module):\n",
    "\n",
    "    def __init__(self, net_bert):\n",
    "        super(BertForIMDb, self).__init__()\n",
    "\n",
    "        # BERTモジュール\n",
    "        self.bert = net_bert  # BERTモデル\n",
    "\n",
    "        # headに予測を追加\n",
    "        # 入力はBERTの出力特徴量の次元、出力は2つ\n",
    "        self.cls = nn.Linear(in_features=768, out_features=2)\n",
    "        #増やす場合はout_reaturesを変更する\n",
    "        #self.cls = nn.Linear(in_features=768, out_features=3)\n",
    "\n",
    "        # 重み初期化処理\n",
    "        nn.init.normal_(self.cls.weight, std=0.02)\n",
    "        nn.init.normal_(self.cls.bias, 0)\n",
    "\n",
    "    def forward(self, input_ids, token_type_ids=None, attention_mask=None, output_all_encoded_layers=False, attention_show_flg=False):\n",
    "        '''\n",
    "        input_ids： [batch_size, sequence_length]の文章の単語IDの羅列\n",
    "        token_type_ids： [batch_size, sequence_length]の、各単語が1文目なのか、2文目なのかを示すid\n",
    "        attention_mask：Transformerのマスクと同じ働きのマスキングです\n",
    "        output_all_encoded_layers：最終出力に12段のTransformerの全部をリストで返すか、最後だけかを指定\n",
    "        attention_show_flg：Self-Attentionの重みを返すかのフラグ\n",
    "        '''\n",
    "\n",
    "        # BERTの基本モデル部分の順伝搬\n",
    "        # 順伝搬させる\n",
    "        if attention_show_flg == True:\n",
    "            '''attention_showのときは、attention_probsもリターンする'''\n",
    "            encoded_layers, pooled_output, attention_probs = self.bert(\n",
    "                input_ids, token_type_ids, attention_mask, output_all_encoded_layers, attention_show_flg)\n",
    "        elif attention_show_flg == False:\n",
    "            encoded_layers, pooled_output = self.bert(\n",
    "                input_ids, token_type_ids, attention_mask, output_all_encoded_layers, attention_show_flg)\n",
    "\n",
    "        # 入力文章の1単語目[CLS]の特徴量を使用して、分類します\n",
    "        vec_0 = encoded_layers[:, 0, :]\n",
    "        vec_0 = vec_0.view(-1, 768)  # sizeを[batch_size, hidden_sizeに変換\n",
    "        out = self.cls(vec_0)\n",
    "\n",
    "        # attention_showのときは、attention_probs（1番最後の）もリターンする\n",
    "        if attention_show_flg == True:\n",
    "            return out, attention_probs\n",
    "        elif attention_show_flg == False:\n",
    "            return out\n"
   ]
  },
  {
   "cell_type": "code",
   "execution_count": null,
   "metadata": {},
   "outputs": [],
   "source": [
    "# モデル構築\n",
    "net_trained = BertClassifier(net_bert)\n",
    "\n",
    "# 訓練モードに設定\n",
    "net_trained.train()\n",
    "\n",
    "print('ネットワーク設定完了')\n",
    "\n",
    "#学習済みモデルを読み込む\n",
    "model_path = './weights/bert_fine_tuning_dokokara_5.pth'\n",
    "net_trained.load_state_dict(torch.load(model_path, map_location=torch.device('cpu')))\n",
    "\n",
    "# 損失関数の設定\n",
    "criterion = nn.CrossEntropyLoss()\n",
    "# nn.LogSoftmax()を計算してからnn.NLLLoss(negative log likelihood loss)を計算"
   ]
  },
  {
   "cell_type": "markdown",
   "metadata": {},
   "source": [
    "## ＊＊＊Juman前処理用（テストデータのみ）＊＊＊"
   ]
  },
  {
   "cell_type": "code",
   "execution_count": null,
   "metadata": {
    "scrolled": true
   },
   "outputs": [],
   "source": [
    "from utils.dataloader import  DataLoaders_and_TEXT_test\n",
    "max_length=128\n",
    "batch_size=16\n",
    "test_dl,TEXT, dataloaders_dict, test_ds=  DataLoaders_and_TEXT_test(max_length, batch_size)"
   ]
  },
  {
   "cell_type": "markdown",
   "metadata": {},
   "source": [
    "## ＊検証"
   ]
  },
  {
   "cell_type": "code",
   "execution_count": 14,
   "metadata": {
    "scrolled": true
   },
   "outputs": [
    {
     "name": "stderr",
     "output_type": "stream",
     "text": [
      "100%|██████████| 41/41 [00:03<00:00, 10.80it/s]"
     ]
    },
    {
     "name": "stdout",
     "output_type": "stream",
     "text": [
      "Loss:0.0119\n",
      "テストデータ1304個での正解率：0.8620\n"
     ]
    },
    {
     "name": "stderr",
     "output_type": "stream",
     "text": [
      "\n"
     ]
    }
   ],
   "source": [
    "import pandas as pd\n",
    "#cc=nn.Softmax(dim=1)\n",
    "# テストデータでの正解率を求める\n",
    "device = torch.device(\"cuda:0\" if torch.cuda.is_available() else \"cpu\")\n",
    "\n",
    "net_trained.eval()   # モデルを検証モードに\n",
    "net_trained.to(device)  # GPUが使えるならGPUへ送る\n",
    "\n",
    "# epochの正解数を記録する変数\n",
    "epoch_corrects = 0\n",
    "\n",
    "predicted_label=[]#予測ラベル\n",
    "ture_label=[]#正解ラベル\n",
    "\n",
    "score_0=[]#0のスコア\n",
    "score_1=[]#1のスコア\n",
    "count=0\n",
    "\n",
    "for batch in tqdm(test_dl):  # testデータのDataLoader\n",
    "    # batchはTextとLableの辞書オブジェクト\n",
    "    # GPUが使えるならGPUにデータを送る\n",
    "    device = torch.device(\"cuda:0\" if torch.cuda.is_available() else \"cpu\")\n",
    "    inputs = batch.Text[0].to(device)  # 文章\n",
    "    labels = batch.Label.to(device)  # ラベル\n",
    "    epoch_loss=0.0\n",
    "\n",
    "    \n",
    "    # 順伝搬（forward）計算\n",
    "    with torch.set_grad_enabled(False):\n",
    "\n",
    "        # BertForIMDbに入力\n",
    "        outputs = net_trained(inputs, token_type_ids=None, attention_mask=None,\n",
    "                              output_all_encoded_layers=False, attention_show_flg=False)\n",
    "\n",
    "        loss = criterion(outputs, labels)  # 損失を計算\n",
    "        \n",
    "        _, preds = torch.max(outputs, 1)  # ラベルを予測\n",
    "        epoch_corrects += torch.sum(preds == labels.data)  # 正解数の合計を更新\n",
    "        \n",
    "        #outputs=cc(outputs)\n",
    "        for i in range(batch_size):\n",
    "            try:\n",
    "                s1=outputs[i][0].item()\n",
    "                s2=outputs[i][1].item()\n",
    "                p_label = preds[i].item()\n",
    "                t_label = labels[i].item()\n",
    "                score_0.append(s1)\n",
    "                score_1.append(s2)\n",
    "                predicted_label.append(p_label)\n",
    "                ture_label.append(t_label)\n",
    "                count+=1\n",
    "            except:\n",
    "                break\n",
    "        epoch_loss += loss.item() * batch_size\n",
    "        \n",
    "epoch_loss = epoch_loss / len(test_dl.dataset)\n",
    "print('Loss:{:.4f}'.format(epoch_loss))\n",
    "# 正解率\n",
    "epoch_acc = epoch_corrects.double() / len(test_dl.dataset)\n",
    "\n",
    "print('テストデータ{}個での正解率：{:.4f}'.format(len(test_dl.dataset), epoch_acc))\n",
    "\n",
    "\n",
    "#df = pd.read_csv(\"./data/test.csv\", engine=\"python\", encoding=\"sjis\")\n",
    "#df = pd.read_csv(\"./data/test.csv\", engine=\"python\", encoding=\"utf-8-sig\")\n",
    "df = pd.read_csv(\"./data/test.csv\", names=(\"TEXT\", \"LABEL\"), engine=\"python\", encoding=\"utf-8-sig\")\n",
    "#df[\"TEXT\"] = np.nan   #予測列を追加\n",
    "#df[\"LABEL\"] = np.nan   #予測列を追加\n",
    "df[\"PREDICT\"] = np.nan   #予測列を追加\n",
    "df[\"AUC+\"] = np.nan   #予測列を追加\n",
    "df[\"AUC-\"] = np.nan   #予測列を追加\n",
    "\n",
    "for index in range(count):\n",
    "    df.at[index, \"PREDICT\"] = predicted_label[index]\n",
    "    \n",
    "    df.at[index, \"AUC+\"] = score_0[index]\n",
    "    df.at[index, \"AUC-\"] = score_1[index]\n",
    "    \n",
    "    \n",
    "df.to_csv(path_result+\"predicted_test.csv\", encoding=\"utf-8-sig\", index=False)\n",
    "\n",
    "#df.to_csv(\"./result/predicted_test_10.csv\", encoding=\"sjis\",index=False)\n"
   ]
  },
  {
   "cell_type": "markdown",
   "metadata": {},
   "source": [
    "## ＊検証時のROC(AUC)の出力"
   ]
  },
  {
   "cell_type": "code",
   "execution_count": 15,
   "metadata": {
    "scrolled": true
   },
   "outputs": [
    {
     "name": "stdout",
     "output_type": "stream",
     "text": [
      "AUC:0.938571502502917\n"
     ]
    },
    {
     "data": {
      "image/png": "[encoded data removed]",
      "text/plain": [
       "<Figure size 432x288 with 1 Axes>"
      ]
     },
     "metadata": {
      "needs_background": "light"
     },
     "output_type": "display_data"
    }
   ],
   "source": [
    "from sklearn.metrics import roc_curve, roc_auc_score\n",
    "import matplotlib.pyplot as plt\n",
    "fpr, tpr, thresholds = roc_curve(ture_label, score_1)\n",
    "plt.axes().set_aspect(\"equal\")\n",
    "#plt.plot(fpr, tpr,marker=\".\")\n",
    "plt.plot(fpr, tpr)\n",
    "plt.xlabel(\"False Positive Rate\")\n",
    "plt.ylabel(\"True Positive Rate\")\n",
    "plt.grid()\n",
    "plt.savefig(path_result+\"roc_curve.png\")\n",
    "auc=roc_auc_score(ture_label,score_1)\n",
    "print(\"AUC:{}\".format(auc))\n",
    "with open(\"{}auc_f.txt\".format(path_result),\"a\",encoding=\"utf-8\") as f:\n",
    "    f.write(\"roc_curve, AUC:{}\\n\".format(auc))\n",
    "    f.close()"
   ]
  },
  {
   "cell_type": "code",
   "execution_count": 16,
   "metadata": {},
   "outputs": [
    {
     "name": "stdout",
     "output_type": "stream",
     "text": [
      "AUC:0.923867334696743\n"
     ]
    },
    {
     "data": {
      "image/png": "[encoded data removed]",
      "text/plain": [
       "<Figure size 432x288 with 1 Axes>"
      ]
     },
     "metadata": {
      "needs_background": "light"
     },
     "output_type": "display_data"
    }
   ],
   "source": [
    "from sklearn.metrics import precision_recall_curve, auc\n",
    "import matplotlib.pyplot as plt\n",
    "precision, recall, thresholds = precision_recall_curve(ture_label, score_1)\n",
    "#plt.plot(fpr, tpr,marker=\".\")\n",
    "plt.axes().set_aspect(\"equal\")\n",
    "plt.xlim(0.0, 1.0)\n",
    "plt.ylim(0.0, 1.0)\n",
    "plt.plot(recall, precision)\n",
    "plt.xlabel(\"Recall\")\n",
    "plt.ylabel(\"Precision\")\n",
    "plt.grid()\n",
    "plt.savefig(path_result+\"precision_recall.png\")\n",
    "pr_auc=auc(recall, precision)\n",
    "print(\"AUC:{}\".format(pr_auc))\n",
    "with open(\"{}auc_f.txt\".format(path_result),\"a\",encoding=\"utf-8\") as f:\n",
    "    f.write(\"precision_recall, AUC:{}\\n\".format(pr_auc))\n",
    "    f.close()"
   ]
  },
  {
   "cell_type": "markdown",
   "metadata": {},
   "source": [
    "## ＊混同行列と精度"
   ]
  },
  {
   "cell_type": "code",
   "execution_count": 17,
   "metadata": {},
   "outputs": [],
   "source": [
    "from utils.config import *\n",
    "from IPython.display import HTML, display\n",
    "import pandas as pd\n",
    "import numpy as np\n",
    "from sklearn.metrics import confusion_matrix\n",
    "from sklearn.metrics import accuracy_score\n",
    "from sklearn.metrics import precision_score\n",
    "from sklearn.metrics import recall_score\n",
    "from sklearn.metrics import f1_score"
   ]
  },
  {
   "cell_type": "code",
   "execution_count": 18,
   "metadata": {},
   "outputs": [
    {
     "name": "stdout",
     "output_type": "stream",
     "text": [
      "1304\n",
      "1304\n"
     ]
    },
    {
     "data": {
      "text/html": [
       "<div>\n",
       "<style scoped>\n",
       "    .dataframe tbody tr th:only-of-type {\n",
       "        vertical-align: middle;\n",
       "    }\n",
       "\n",
       "    .dataframe tbody tr th {\n",
       "        vertical-align: top;\n",
       "    }\n",
       "\n",
       "    .dataframe thead th {\n",
       "        text-align: right;\n",
       "    }\n",
       "</style>\n",
       "<table border=\"1\" class=\"dataframe\">\n",
       "  <thead>\n",
       "    <tr style=\"text-align: right;\">\n",
       "      <th></th>\n",
       "      <th>負例</th>\n",
       "      <th>正例</th>\n",
       "    </tr>\n",
       "  </thead>\n",
       "  <tbody>\n",
       "    <tr>\n",
       "      <th>負例</th>\n",
       "      <td>513</td>\n",
       "      <td>139</td>\n",
       "    </tr>\n",
       "    <tr>\n",
       "      <th>正例</th>\n",
       "      <td>41</td>\n",
       "      <td>611</td>\n",
       "    </tr>\n",
       "  </tbody>\n",
       "</table>\n",
       "</div>"
      ],
      "text/plain": [
       "     負例   正例\n",
       "負例  513  139\n",
       "正例   41  611"
      ]
     },
     "execution_count": 18,
     "metadata": {},
     "output_type": "execute_result"
    }
   ],
   "source": [
    "#混合行列の表示（評価）\n",
    "y_true =[]\n",
    "y_pred =[]\n",
    "df = pd.read_csv(path_result+\"predicted_test.csv\", engine=\"python\", encoding=\"utf-8-sig\")\n",
    "#df = pd.read_csv(\"./result/predicted_test.csv\", engine=\"python\", encoding=\"sjis\")\n",
    "for index, row in df.iterrows():\n",
    "    if row['LABEL'] == 0:\n",
    "        y_true.append(\"負例\")\n",
    "    if row['LABEL'] ==1:\n",
    "        y_true.append(\"正例\")\n",
    "    if row['PREDICT'] ==0:\n",
    "        y_pred.append(\"負例\")\n",
    "    if row['PREDICT'] ==1:\n",
    "        y_pred.append(\"正例\")\n",
    "\n",
    "    \n",
    "print(len(y_true))\n",
    "print(len(y_pred))\n",
    "\n",
    "\n",
    "# 混同行列(confusion matrix)の取得\n",
    "labels = [\"負例\", \"正例\"]\n",
    "from sklearn.metrics import confusion_matrix\n",
    "cm = confusion_matrix(y_true, y_pred, labels=labels)\n",
    "\n",
    "# データフレームに変換\n",
    "cm_labeled = pd.DataFrame(cm, columns=labels, index=labels)\n",
    "\n",
    "# 結果の表示\n",
    "cm_labeled.to_csv(path_result+\"confusion_matrix.csv\", encoding=\"utf-8-sig\")\n",
    "cm_labeled\n"
   ]
  },
  {
   "cell_type": "code",
   "execution_count": 19,
   "metadata": {},
   "outputs": [
    {
     "name": "stdout",
     "output_type": "stream",
     "text": [
      "正解率（すべてのサンプルのうち正解したサンプルの割合）=0.8619631901840491\n",
      "適合率（positiveと予測された中で実際にpositiveだった確率）=0.8146666666666667\n",
      "再現率（positiveなデータに対してpositiveと予測された確率）=0.9371165644171779\n",
      "F1（適合率と再現率の調和平均）=0.8716119828815978\n"
     ]
    }
   ],
   "source": [
    "y_true =[]\n",
    "y_pred =[]\n",
    "df = pd.read_csv(path_result+\"predicted_test.csv\", engine=\"python\", encoding=\"utf-8-sig\")\n",
    "#df = pd.read_csv(\"./result/predicted_test.csv\", engine=\"python\", encoding=\"sjis\")\n",
    "for index, row in df.iterrows():\n",
    "    y_true.append(row[\"LABEL\"])\n",
    "    y_pred.append(row[\"PREDICT\"])\n",
    "\"\"\"       \n",
    "print(\"正解率（すべてのサンプルのうち正解したサンプルの割合）={}%\".format((round(accuracy_score(y_true, y_pred),2)) *100 ))\n",
    "print(\"適合率（positiveと予測された中で実際にpositiveだった確率）={}%\".format((round(precision_score(y_true, y_pred),2)) *100 ))\n",
    "print(\"再現率（positiveなデータに対してpositiveと予測された確率）={}%\".format((round(recall_score(y_true, y_pred),2)) *100 ))\n",
    "print(\"F1（適合率と再現率の調和平均）={}%\".format((round(f1_score(y_true, y_pred),2)) *100 ))\n",
    "\"\"\"\n",
    "print(\"正解率（すべてのサンプルのうち正解したサンプルの割合）={}\".format((accuracy_score(y_true, y_pred))))\n",
    "print(\"適合率（positiveと予測された中で実際にpositiveだった確率）={}\".format((precision_score(y_true, y_pred))))\n",
    "print(\"再現率（positiveなデータに対してpositiveと予測された確率）={}\".format((recall_score(y_true, y_pred))))\n",
    "print(\"F1（適合率と再現率の調和平均）={}\".format((f1_score(y_true, y_pred))))\n",
    "with open(\"{}auc_f.txt\".format(path_result),\"a\",encoding=\"utf-8\") as f:\n",
    "    f.write(\"正解率（すべてのサンプルのうち正解したサンプルの割合）={}\\n\".format((accuracy_score(y_true, y_pred))))\n",
    "    f.write(\"適合率（positiveと予測された中で実際にpositiveだった確率）={}\\n\".format((precision_score(y_true, y_pred))))\n",
    "    f.write(\"再現率（positiveなデータに対してpositiveと予測された確率）={}\\n\".format((recall_score(y_true, y_pred))))\n",
    "    f.write(\"F1（適合率と再現率の調和平均）={}\\n\".format((f1_score(y_true, y_pred))))\n",
    "    f.close()"
   ]
  },
  {
   "cell_type": "markdown",
   "metadata": {},
   "source": [
    "# ＊Attentionの可視化"
   ]
  },
  {
   "cell_type": "code",
   "execution_count": 20,
   "metadata": {},
   "outputs": [],
   "source": [
    "# BertForIMDbで処理\n",
    "\n",
    "# ミニバッチの用意\n",
    "batch = next(iter(test_dl))\n",
    "\n",
    "# GPUが使えるならGPUにデータを送る\n",
    "inputs = batch.Text[0].to(device)  # 文章\n",
    "labels = batch.Label.to(device)  # ラベル\n",
    "\n",
    "outputs, attention_probs = net_trained(inputs, token_type_ids=None, attention_mask=None,\n",
    "                                       output_all_encoded_layers=False, attention_show_flg=True)\n",
    "\n",
    "_, preds = torch.max(outputs, 1)  # ラベルを予測\n"
   ]
  },
  {
   "cell_type": "code",
   "execution_count": 21,
   "metadata": {},
   "outputs": [],
   "source": [
    "# HTMLを作成する関数を実装\n",
    "\n",
    "from utils.bert import BertTokenizer\n",
    "from utils.config import PKL_FILE, VOCAB_FILE, DATA_PATH\n",
    "tokenizer_bert = BertTokenizer(vocab_file=VOCAB_FILE, do_lower_case=False)\n",
    "from utils.tokenizer import JumanTokenize\n",
    "\n",
    "def highlight(word, attn):\n",
    "    \"Attentionの値が大きいと文字の背景が濃い赤になるhtmlを出力させる関数\"\n",
    "\n",
    "    html_color = '#%02X%02X%02X' % (\n",
    "        255, int(255*(1 - attn)), int(255*(1 - attn)))\n",
    "    return '<span style=\"background-color: {}\"> {}</span>'.format(html_color, word)\n",
    "\n",
    "\n",
    "def mk_html(index, batch, preds, normlized_weights, TEXT):\n",
    "    \"HTMLデータを作成する\"\n",
    "\n",
    "    # indexの結果を抽出\n",
    "    sentence = batch.Text[0][index]  # 文章\n",
    "    label = batch.Label[index]  # ラベル\n",
    "    pred = preds[index]  # 予測\n",
    "\n",
    "    # ラベルと予測結果を文字に置き換え\n",
    "    \"\"\"\n",
    "    if label == 0:\n",
    "        label_str = \"負例\"\n",
    "    else:\n",
    "        label_str = \"正例\"\n",
    "\n",
    "    if pred == 0:\n",
    "        pred_str = \"負例\"\n",
    "    else:\n",
    "        pred_str = \"正例\"\n",
    "    \"\"\"\n",
    "    if label == 0:\n",
    "        label_str = \"非有益\"\n",
    "    else:\n",
    "        label_str = \"有益\"\n",
    "\n",
    "    if pred == 0:\n",
    "        pred_str = \"非有益\"\n",
    "    else:\n",
    "        pred_str = \"有益\"\n",
    "\n",
    "\n",
    "    # 表示用のHTMLを作成する\n",
    "    #html = '正解ラベル：{}<br>推論ラベル：{}<br><br>'.format(label_str, pred_str)\n",
    "    html = '正解ラベル：{}<br>推論ラベル：{}<br>'.format(label_str, pred_str)\n",
    "\n",
    "    # Self-Attentionの重みを可視化。Multi-Headが12個なので、12種類のアテンションが存在\n",
    "    for i in range(12):\n",
    "\n",
    "        # indexのAttentionを抽出と規格化\n",
    "        # 0単語目[CLS]の、i番目のMulti-Head Attentionを取り出す\n",
    "        # indexはミニバッチの何個目のデータかをしめす\n",
    "        attens = normlized_weights[index, i, 0, :]\n",
    "        attens /= attens.max()\n",
    "        \"\"\"\n",
    "        html += '[BERTのAttentionを可視化_' + str(i+1) + ']<br>'\n",
    "        for word, attn in zip(sentence, attens):\n",
    "\n",
    "            # 単語が[SEP]の場合は文章が終わりなのでbreak\n",
    "            if tokenizer_bert.convert_ids_to_tokens([word.numpy().tolist()])[0] == \"[SEP]\":\n",
    "                break\n",
    "\n",
    "            # 関数highlightで色をつける、関数tokenizer_bert.convert_ids_to_tokensでIDを単語に戻す\n",
    "            html += highlight(tokenizer_bert.convert_ids_to_tokens(\n",
    "                [word.numpy().tolist()])[0], attn)\n",
    "        html += \"<br><br>\"\n",
    "        \"\"\"\n",
    "\n",
    "    # 12種類のAttentionの平均を求める。最大値で規格化\n",
    "    all_attens = attens*0  # all_attensという変数を作成する\n",
    "    for i in range(12):\n",
    "        attens += normlized_weights[index, i, 0, :]\n",
    "    attens /= attens.max()\n",
    "\n",
    "    #html += '[BERTのAttentionを可視化_ALL]<br>'\n",
    "    for word, attn in zip(sentence, attens):\n",
    "\n",
    "        # 単語が[SEP]の場合は文章が終わりなのでbreak\n",
    "        \n",
    "        if tokenizer_bert.convert_ids_to_tokens([word.numpy().tolist()])[0] == \"[SEP]\":\n",
    "            break\n",
    "        \n",
    "\n",
    "        # 関数highlightで色をつける、関数tokenizer_bert.convert_ids_to_tokensでIDを単語に戻す\n",
    "        html += highlight(tokenizer_bert.convert_ids_to_tokens(\n",
    "            [word.numpy().tolist()])[0], attn)\n",
    "        \n",
    "    html += \"<br><br>\"\n",
    "\n",
    "    return html\n"
   ]
  },
  {
   "cell_type": "code",
   "execution_count": 22,
   "metadata": {},
   "outputs": [
    {
     "data": {
      "text/html": [
       "正解ラベル：有益<br>推論ラベル：有益<br><span style=\"background-color: #FFFBFB\"> [CLS]</span><span style=\"background-color: #FFE7E7\"> 台風</span><span style=\"background-color: #FFFEFE\"> が</span><span style=\"background-color: #FFF8F8\"> 来る</span><span style=\"background-color: #FFF1F1\"> 前</span><span style=\"background-color: #FFFDFD\"> の</span><span style=\"background-color: #FF5050\"> 対策</span><span style=\"background-color: #FFF7F7\"> と</span><span style=\"background-color: #FFF1F1\"> して</span><span style=\"background-color: #FFD9D9\"> …</span><span style=\"background-color: #FF5656\"> 車</span><span style=\"background-color: #FFFBFB\"> の</span><span style=\"background-color: #FF0000\"> 燃料</span><span style=\"background-color: #FFF0F0\"> を</span><span style=\"background-color: #FFD1D1\"> [UNK]</span><span style=\"background-color: #FFE7E7\"> に</span><span style=\"background-color: #FFD6D6\"> して</span><span style=\"background-color: #FFAFAF\"> おく</span><span style=\"background-color: #FF7777\"> 事</span><span style=\"background-color: #FFA8A8\"> ！</span><span style=\"background-color: #FFA8A8\"> ！</span><span style=\"background-color: #FFB2B2\"> ！</span><span style=\"background-color: #FF8787\"> 移動</span><span style=\"background-color: #FFEFEF\"> する</span><span style=\"background-color: #FFC4C4\"> 為</span><span style=\"background-color: #FFE8E8\"> だけ</span><span style=\"background-color: #FFFAFA\"> で</span><span style=\"background-color: #FFFCFC\"> は</span><span style=\"background-color: #FFF9F9\"> なく</span><span style=\"background-color: #FF9B9B\"> 停電</span><span style=\"background-color: #FFFCFC\"> に</span><span style=\"background-color: #FFFBFB\"> なった</span><span style=\"background-color: #FFC6C6\"> 時</span><span style=\"background-color: #FFEBEB\"> [UNK]</span><span style=\"background-color: #FFF9F9\"> の</span><span style=\"background-color: #FF7070\"> 充電</span><span style=\"background-color: #FFFBFB\"> が</span><span style=\"background-color: #FFF6F6\"> できる</span><span style=\"background-color: #FF9595\"> エアコン</span><span style=\"background-color: #FFF8F8\"> が</span><span style=\"background-color: #FFD4D4\"> きく</span><span style=\"background-color: #FFEDED\"> 本当に</span><span style=\"background-color: #FFD8D8\"> [UNK]</span><span style=\"background-color: #FFDBDB\"> と</span><span style=\"background-color: #FFA9A9\"> 思い</span><span style=\"background-color: #FFE7E7\"> ます</span><span style=\"background-color: #FFEFEF\"> （</span><span style=\"background-color: #FFB0B0\"> ＿</span><span style=\"background-color: #FFEDED\"> ）</span><span style=\"background-color: #FFD9D9\"> [UNK]</span><span style=\"background-color: #FF8C8C\"> 実行</span><span style=\"background-color: #FFE2E2\"> して</span><span style=\"background-color: #FFE7E7\"> ください</span><span style=\"background-color: #FFD2D2\"> ＃</span><span style=\"background-color: #FFF2F2\"> 台風</span><span style=\"background-color: #FF8383\"> 対策</span><br><br>"
      ],
      "text/plain": [
       "<IPython.core.display.HTML object>"
      ]
     },
     "execution_count": 22,
     "metadata": {},
     "output_type": "execute_result"
    }
   ],
   "source": [
    "from IPython.display import HTML\n",
    "\n",
    "index = 5  # 出力させたいデータ\n",
    "html_output = mk_html(index, batch, preds, attention_probs, TEXT)  # HTML作成\n",
    "HTML(html_output)  # HTML形式で出力\n"
   ]
  },
  {
   "cell_type": "code",
   "execution_count": 23,
   "metadata": {
    "scrolled": true
   },
   "outputs": [],
   "source": [
    "count=0\n",
    "for batch in test_dl:\n",
    "    # ミニバッチの用意\n",
    "    #batch = next(iter(test_dl))\n",
    "\n",
    "    # GPUが使えるならGPUにデータを送る\n",
    "    inputs = batch.Text[0].to(device)  # 文章\n",
    "    labels = batch.Label.to(device)  # ラベル\n",
    "\n",
    "    outputs, attention_probs = net_trained(inputs, token_type_ids=None, attention_mask=None,\n",
    "                                           output_all_encoded_layers=False, attention_show_flg=True)\n",
    "    _, preds = torch.max(outputs, 1)  # ラベルを予測\n",
    "    \n",
    "    for index in range(batch_size):\n",
    "        try:\n",
    "            html_output = mk_html(index, batch, preds, attention_probs, TEXT)  # HTML作成\n",
    "            with open(\"{}test.html\".format(path_result),\"a\", encoding=\"cp932\") as f:\n",
    "                f.write(html_output)\n",
    "            count+=1\n",
    "        except:\n",
    "            pass \n",
    "#print(count)   \n",
    "#HTML(html_output)  # HTML形式で出力\n",
    "        # BertForIMDbで処理"
   ]
  },
  {
   "cell_type": "code",
   "execution_count": null,
   "metadata": {},
   "outputs": [],
   "source": []
  }
 ],
 "metadata": {
  "kernelspec": {
   "display_name": "Python 3",
   "language": "python",
   "name": "python3"
  },
  "language_info": {
   "codemirror_mode": {
    "name": "ipython",
    "version": 3
   },
   "file_extension": ".py",
   "mimetype": "text/x-python",
   "name": "python",
   "nbconvert_exporter": "python",
   "pygments_lexer": "ipython3",
   "version": "3.7.10"
  }
 },
 "nbformat": 4,
 "nbformat_minor": 2
}
